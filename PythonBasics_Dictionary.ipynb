{
 "cells": [
  {
   "cell_type": "code",
   "execution_count": 1,
   "metadata": {},
   "outputs": [
    {
     "name": "stdout",
     "output_type": "stream",
     "text": [
      "{'Fist Name': 'Behdad', 'Surname': 'Jam', 'Age': 35, 'Records': [11.32, 14.34, 13.003]}\n",
      "{'band1': 1943, 'bandx': 1967, 'bandy': 1984, 'band4': 1933}\n"
     ]
    }
   ],
   "source": [
    "#Python Basics\n",
    "#Dictionaries in Python\n",
    "#Keys and Elements\n",
    "#Dictionary is defined by {\"key1\": element1, \"key2\": element2, \"key3\": element3}\n",
    "\n",
    "#Examples\n",
    "dic1={\"Fist Name\":\"Behdad\", \"Surname\": \"Jam\", \"Age\": 35, \"Records\": [11.32, 14.34, 13.003]}\n",
    "print(dic1)\n",
    "\n",
    "History={\"band1\":1943, \"bandx\": 1967, \"bandy\": 1984, \"band4\":1933}\n",
    "print(History)\n"
   ]
  },
  {
   "cell_type": "code",
   "execution_count": 2,
   "metadata": {
    "scrolled": true
   },
   "outputs": [
    {
     "name": "stdout",
     "output_type": "stream",
     "text": [
      "{'Fist Name': 'Behdad', 'Surname': 'Jam', 'Age': 35, 'Records': [11.32, 14.34, 13.003], 'key1': 'John', \"John's Age\": 37, 'Birthday': '23rd May'}\n",
      "{'band1': 1943, 'bandx': 1967, 'bandy': 1984, 'band4': 1933, 'bands': 1988, 'bandee': 1976, 'bandbb': 1944}\n"
     ]
    }
   ],
   "source": [
    "#we can add a new value to dictionary as follows\n",
    "dic1={\"Fist Name\":\"Behdad\", \"Surname\": \"Jam\", \"Age\": 35, \"Records\": [11.32, 14.34, 13.003]}\n",
    "dic1[\"key1\"]=\"John\"\n",
    "dic1[\"John's Age\"]=37\n",
    "dic1[\"Birthday\"]=\"23rd May\"\n",
    "print(dic1)\n",
    "\n",
    "History={\"band1\":1943, \"bandx\": 1967, \"bandy\": 1984, \"band4\":1933}\n",
    "History[\"bands\"]=1988\n",
    "History[\"bandee\"]=1976\n",
    "History[\"bandbb\"]=1944\n",
    "print(History)"
   ]
  },
  {
   "cell_type": "code",
   "execution_count": 3,
   "metadata": {},
   "outputs": [
    {
     "name": "stdout",
     "output_type": "stream",
     "text": [
      "{'First Name': 'Behdad', 'Surname': 'Jam', 'Age': 35, \"John's Age\": 37, 'Birthday': '23rd May'}\n",
      "{'First Name': 'Behdad', 'Surname': 'Jam', 'Age': 35, \"John's Age\": 37}\n",
      "{'First Name': 'Behdad', 'Surname': 'Jam', \"John's Age\": 37}\n",
      "{'First Name': 'Behdad', \"John's Age\": 37}\n",
      "{\"John's Age\": 37}\n",
      "{'band1': 1943, 'bandx': 1967, 'bandy': 1984, 'band4': 1933}\n",
      "{'bandx': 1967, 'bandy': 1984, 'band4': 1933}\n",
      "{'bandx': 1967, 'bandy': 1984}\n",
      "{'bandy': 1984}\n"
     ]
    }
   ],
   "source": [
    "#we can add a new value to dictionary as follows\n",
    "dictionary1= {'First Name': 'Behdad', 'Surname': 'Jam', 'Age': 35, \"John's Age\": 37, 'Birthday': '23rd May'}\n",
    "print(dictionary1)\n",
    "del(dictionary1['Birthday'])\n",
    "print(dictionary1)\n",
    "del(dictionary1['Age'])\n",
    "print(dictionary1)\n",
    "del(dictionary1['Surname'])\n",
    "print(dictionary1)\n",
    "del(dictionary1['First Name'])\n",
    "print(dictionary1)\n",
    "\n",
    "\n",
    "His= {'band1': 1943, 'bandx': 1967, 'bandy': 1984, 'band4': 1933}\n",
    "\n",
    "print(His)\n",
    "del(His['band1'])\n",
    "print(His)\n",
    "del(His['band4'])\n",
    "print(His)\n",
    "del(His['bandx'])\n",
    "print(His)"
   ]
  },
  {
   "cell_type": "code",
   "execution_count": 4,
   "metadata": {},
   "outputs": [
    {
     "name": "stdout",
     "output_type": "stream",
     "text": [
      "band1 is in History:  True\n",
      "band1 is in History:  True\n",
      "bandx is in History:  True\n",
      "bandy is in History:  True\n",
      "band1 is in d2:  False\n",
      "band1 is in d3:  False\n",
      "bandx is in d3:  False\n",
      "bandy is in d2:  True\n",
      "band1 is in d2:  False\n",
      "band1 is in d3:  False\n",
      "bandx is in d3:  False\n",
      "bandy is in d2:  True\n"
     ]
    }
   ],
   "source": [
    "#We can verify a element or item is in the dictionary or not with \"in\" as follows\n",
    "\n",
    "History={\"band1\":1943, \"bandx\": 1967, \"bandy\": 1984, \"band4\":1933}\n",
    "d1= {'First Name': 'Behdad', 'Surname': 'Jam', 'Age': 35, \"John's Age\": 37, 'Birthday': '23rd May'}\n",
    "d2={'bandx': 1967, 'bandy': 1984, 'band4': 1933}\n",
    "d3={'bandy': 1984}\n",
    "\n",
    "g=\"band1\" in History\n",
    "print(\"band1 is in History: \", bool(g))\n",
    "g=\"band1\" in History\n",
    "print(\"band1 is in History: \", bool(g))\n",
    "g=\"bandx\" in History\n",
    "print(\"bandx is in History: \", bool(g))\n",
    "g=\"bandy\" in History\n",
    "print(\"bandy is in History: \", bool(g))\n",
    "\n",
    "\n",
    "g=\"band1\" in d2\n",
    "print(\"band1 is in d2: \", bool(g))\n",
    "g=\"band1\" in d3\n",
    "print(\"band1 is in d3: \", bool(g))\n",
    "g=\"bandx\" in d3\n",
    "print(\"bandx is in d3: \", bool(g))\n",
    "g=\"bandy\" in d2\n",
    "print(\"bandy is in d2: \", bool(g))\n",
    "\n",
    "g=\"band1\" in d2\n",
    "print(\"band1 is in d2: \", g)\n",
    "g=\"band1\" in d3\n",
    "print(\"band1 is in d3: \", g)\n",
    "g=\"bandx\" in d3\n",
    "print(\"bandx is in d3: \", g)\n",
    "g=\"bandy\" in d2\n",
    "print(\"bandy is in d2: \", g)"
   ]
  },
  {
   "cell_type": "code",
   "execution_count": 5,
   "metadata": {
    "scrolled": true
   },
   "outputs": [
    {
     "name": "stdout",
     "output_type": "stream",
     "text": [
      "dict_keys(['band1', 'bandx', 'bandy', 'band4'])\n",
      "dict_keys(['First Name', 'Surname', 'Age', \"John's Age\", 'Birthday'])\n",
      "dict_keys(['bandx', 'bandy', 'band4'])\n",
      "dict_keys(['bandy'])\n"
     ]
    }
   ],
   "source": [
    "### You can show all keys in a dictionary using \"key method\" as follow:\n",
    "History={\"band1\":1943, \"bandx\": 1967, \"bandy\": 1984, \"band4\":1933}\n",
    "d1= {'First Name': 'Behdad', 'Surname': 'Jam', 'Age': 35, \"John's Age\": 37, 'Birthday': '23rd May'}\n",
    "d2={'bandx': 1967, 'bandy': 1984, 'band4': 1933}\n",
    "d3={'bandy': 1984}\n",
    "\n",
    "print (History.keys())\n",
    "print(d1.keys())\n",
    "print(d2.keys())\n",
    "print(d3.keys())"
   ]
  },
  {
   "cell_type": "code",
   "execution_count": 6,
   "metadata": {},
   "outputs": [
    {
     "name": "stdout",
     "output_type": "stream",
     "text": [
      "dict_values([1943, 1967, 1984, 1933])\n",
      "dict_values(['Behdad', 'Jam', 35, 37, '23rd May'])\n",
      "dict_values([1967, 1984, 1933])\n",
      "dict_values([1984])\n"
     ]
    }
   ],
   "source": [
    "### You can illustrate all values in a dictionary using \"value method\" as follow:\n",
    "w1={\"band1\":1943, \"bandx\": 1967, \"bandy\": 1984, \"band4\":1933}\n",
    "w2= {'First Name': 'Behdad', 'Surname': 'Jam', 'Age': 35, \"John's Age\": 37, 'Birthday': '23rd May'}\n",
    "w3={'bandx': 1967, 'bandy': 1984, 'band4': 1933}\n",
    "w4={'bandy': 1984}\n",
    "\n",
    "print (w1.values())\n",
    "print(w2.values())\n",
    "print(w3.values())\n",
    "print(w4.values())"
   ]
  },
  {
   "cell_type": "code",
   "execution_count": 7,
   "metadata": {},
   "outputs": [
    {
     "name": "stdout",
     "output_type": "stream",
     "text": [
      "1943\n",
      "1967\n",
      "1984\n"
     ]
    }
   ],
   "source": [
    "#You can show any value of keys as follows:\n",
    "\n",
    "w1={\"band1\":1943, \"bandx\": 1967, \"bandy\": 1984, \"band4\":1933}\n",
    "w2= {'First Name': 'Behdad', 'Surname': 'Jam', 'Age': 35, \"John's Age\": 37, 'Birthday': '23rd May'}\n",
    "w3={'bandx': 1967, 'bandy': 1984, 'band4': 1933}\n",
    "w4={'bandy': 1984}\n",
    "\n",
    "#value of key band1 is computed as follows\n",
    "vw1= w1[\"band1\"]\n",
    "print(vw1)\n",
    "\n",
    "#value of key bandx is computed as follows\n",
    "vw1= w1[\"bandx\"]\n",
    "print(vw1)\n",
    "\n",
    "#value of key band1y is computed as follows\n",
    "vw1= w1[\"bandy\"]\n",
    "print(vw1)"
   ]
  }
 ],
 "metadata": {
  "kernelspec": {
   "display_name": "Python 3",
   "language": "python",
   "name": "python3"
  },
  "language_info": {
   "codemirror_mode": {
    "name": "ipython",
    "version": 3
   },
   "file_extension": ".py",
   "mimetype": "text/x-python",
   "name": "python",
   "nbconvert_exporter": "python",
   "pygments_lexer": "ipython3",
   "version": "3.7.6"
  }
 },
 "nbformat": 4,
 "nbformat_minor": 4
}
